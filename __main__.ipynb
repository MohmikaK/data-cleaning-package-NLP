{
 "cells": [
  {
   "cell_type": "code",
   "execution_count": null,
   "id": "83229139",
   "metadata": {},
   "outputs": [],
   "source": [
    "from flask import Flask, jsonify, request,send_file\n",
    "\n",
    "app = Flask()\n",
    "\n",
    "@app.route('/data-cleaning-package', method = ['GET'])\n",
    "\n",
    "def stemmer():\n",
    "    from nltk.stem import PorterStemmer  \n",
    "    from nltk.tokenize import word_tokenize\n",
    "\n",
    "    ps = PorterStemmer()\n",
    "    t=''\n",
    "    text = \"The main applications of Porter Stemmer includedata mining and Information retrieval.However, its applications are only limited to English words. Also, the group of stems is mapped onto the same stem, and the output stem is not necessarily a meaningful word. The algorithms are fairly lengthy and are known to be the oldest stemmer. Typically, it's a basic stemmer, but it's not advised to use it for any production or complex application. Instead, it has its place in research as a basic stemming algorithm that can guarantee reproducibility\"\n",
    "    for i in text:\n",
    "        if i in \"!@#$%^&*()-_=+[{]}\\|;:'\"\"]`!,<.>/?\":\n",
    "            continue\n",
    "        else:\n",
    "            t+=i\n",
    "            \n",
    "    tokens= t.split(\" \") \n",
    "    post_stem={}\n",
    "\n",
    "    for w in tokens:\n",
    "        post_stem[w.strip()]=ps.stem(w.strip()) \n",
    "    '''if post_stem[w.strip()]  not in WORDS:  \n",
    "        post_stem[w.strip()]=w.strip()'''\n",
    "    print(post_stem) #returns a dictionary\n",
    "\n",
    "stemmer()\n",
    "\n",
    "if __name__ == '__main__':\n",
    "    app.run(debug=True, port=8000)\n"
   ]
  }
 ],
 "metadata": {
  "kernelspec": {
   "display_name": "Python 3 (ipykernel)",
   "language": "python",
   "name": "python3"
  },
  "language_info": {
   "codemirror_mode": {
    "name": "ipython",
    "version": 3
   },
   "file_extension": ".py",
   "mimetype": "text/x-python",
   "name": "python",
   "nbconvert_exporter": "python",
   "pygments_lexer": "ipython3",
   "version": "3.9.7"
  }
 },
 "nbformat": 4,
 "nbformat_minor": 5
}

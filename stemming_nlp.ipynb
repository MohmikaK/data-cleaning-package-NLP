{
 "cells": [
  {
   "cell_type": "code",
   "execution_count": 20,
   "id": "d5533f05",
   "metadata": {},
   "outputs": [
    {
     "name": "stdout",
     "output_type": "stream",
     "text": [
      "{'The': 'the', 'main': 'main', 'applications': 'applic', 'of': 'of', 'Porter': 'porter', 'Stemmer': 'stemmer', 'include': 'includ', 'data': 'data', 'mining': 'mine', 'and': 'and', 'Information': 'inform', 'retrieval.However,': 'retrieval.however,', 'its': 'it', 'are': 'are', 'only': 'onli', 'limited': 'limit', 'to': 'to', 'English': 'english', 'words.': 'words.', 'Also,': 'also,', 'the': 'the', 'group': 'group', 'stems': 'stem', 'is': 'is', 'mapped': 'map', 'onto': 'onto', 'same': 'same', 'stem,': 'stem,', 'output': 'output', 'stem': 'stem', 'not': 'not', 'necessarily': 'necessarili', 'a': 'a', 'meaningful': 'meaning', 'word.': 'word.', 'algorithms': 'algorithm', 'fairly': 'fairli', 'lengthy': 'lengthi', 'known': 'known', 'be': 'be', 'oldest': 'oldest', 'stemmer.': 'stemmer.', 'Typically,': 'typically,', \"it's\": \"it'\", 'basic': 'basic', 'stemmer,': 'stemmer,', 'but': 'but', 'advised': 'advis', 'use': 'use', 'it': 'it', 'for': 'for', 'any': 'ani', 'production': 'product', 'or': 'or', 'complex': 'complex', 'application.': 'application.', 'Instead,': 'instead,', 'has': 'ha', 'place': 'place', 'in': 'in', 'research': 'research', 'as': 'as', 'stemming': 'stem', 'algorithm': 'algorithm', 'that': 'that', 'can': 'can', 'guarantee': 'guarante', 'reproducibility': 'reproduc'}\n"
     ]
    }
   ],
   "source": [
    "from nltk.stem import PorterStemmer  \n",
    "from nltk.tokenize import word_tokenize\n",
    "\n",
    "ps = PorterStemmer()\n",
    "\n",
    "text = \"The main applications of Porter Stemmer include data mining and Information retrieval.However, its applications are only limited to English words. Also, the group of stems is mapped onto the same stem, and the output stem is not necessarily a meaningful word. The algorithms are fairly lengthy and are known to be the oldest stemmer. Typically, it's a basic stemmer, but it's not advised to use it for any production or complex application. Instead, it has its place in research as a basic stemming algorithm that can guarantee reproducibility\"\n",
    "tokens= text.split(\" \") #should work when punctuations are removed\n",
    "post_stem={}\n",
    "\n",
    "for w in tokens:\n",
    "    post_stem[w.strip()]=ps.stem(w.strip()) \n",
    "    '''if post_stem[w.strip()]  not in WORDS:  \n",
    "        post_stem[w.strip()]=w.strip()'''\n",
    "\n",
    "\n",
    "\n",
    "print(post_stem) #returns a dictionary\n"
   ]
  },
  {
   "cell_type": "code",
   "execution_count": null,
   "id": "3f5b3f72",
   "metadata": {},
   "outputs": [],
   "source": []
  }
 ],
 "metadata": {
  "kernelspec": {
   "display_name": "Python 3 (ipykernel)",
   "language": "python",
   "name": "python3"
  },
  "language_info": {
   "codemirror_mode": {
    "name": "ipython",
    "version": 3
   },
   "file_extension": ".py",
   "mimetype": "text/x-python",
   "name": "python",
   "nbconvert_exporter": "python",
   "pygments_lexer": "ipython3",
   "version": "3.9.7"
  }
 },
 "nbformat": 4,
 "nbformat_minor": 5
}

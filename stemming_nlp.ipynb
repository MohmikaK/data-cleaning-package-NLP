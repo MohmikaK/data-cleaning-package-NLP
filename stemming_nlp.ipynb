{
 "cells": [
  {
   "cell_type": "code",
   "execution_count": 3,
   "id": "d5533f05",
   "metadata": {},
   "outputs": [
    {
     "ename": "ModuleNotFoundError",
     "evalue": "No module named 'nltk'",
     "output_type": "error",
     "traceback": [
      "\u001b[1;31m---------------------------------------------------------------------------\u001b[0m",
      "\u001b[1;31mModuleNotFoundError\u001b[0m                       Traceback (most recent call last)",
      "\u001b[1;32mc:\\Users\\mohmi\\data-cleaning-package-NLP\\stemming_nlp.ipynb Cell 1\u001b[0m in \u001b[0;36m<module>\u001b[1;34m\u001b[0m\n\u001b[1;32m----> <a href='vscode-notebook-cell:/c%3A/Users/mohmi/data-cleaning-package-NLP/stemming_nlp.ipynb#W0sZmlsZQ%3D%3D?line=0'>1</a>\u001b[0m \u001b[39mfrom\u001b[39;00m \u001b[39mnltk\u001b[39;00m\u001b[39m.\u001b[39;00m\u001b[39mstem\u001b[39;00m \u001b[39mimport\u001b[39;00m PorterStemmer  \n\u001b[0;32m      <a href='vscode-notebook-cell:/c%3A/Users/mohmi/data-cleaning-package-NLP/stemming_nlp.ipynb#W0sZmlsZQ%3D%3D?line=1'>2</a>\u001b[0m \u001b[39mfrom\u001b[39;00m \u001b[39mnltk\u001b[39;00m\u001b[39m.\u001b[39;00m\u001b[39mtokenize\u001b[39;00m \u001b[39mimport\u001b[39;00m word_tokenize\n\u001b[0;32m      <a href='vscode-notebook-cell:/c%3A/Users/mohmi/data-cleaning-package-NLP/stemming_nlp.ipynb#W0sZmlsZQ%3D%3D?line=3'>4</a>\u001b[0m ps \u001b[39m=\u001b[39m PorterStemmer()\n",
      "\u001b[1;31mModuleNotFoundError\u001b[0m: No module named 'nltk'"
     ]
    }
   ],
   "source": [
    "from nltk.stem import PorterStemmer  \n",
    "from nltk.tokenize import word_tokenize\n",
    "\n",
    "ps = PorterStemmer()\n",
    "\n",
    "text = \"The main applications of Porter Stemmer include data mining and Information retrieval.However, its applications are only limited to English words. Also, the group of stems is mapped onto the same stem, and the output stem is not necessarily a meaningful word. The algorithms are fairly lengthy and are known to be the oldest stemmer. Typically, it's a basic stemmer, but it's not advised to use it for any production or complex application. Instead, it has its place in research as a basic stemming algorithm that can guarantee reproducibility\"\n",
    "tokens= text.split(\" \") #should work when punctuations are removed\n",
    "post_stem={}\n",
    "\n",
    "for w in tokens:\n",
    "    post_stem[w.strip()]=ps.stem(w.strip()) \n",
    "    '''if post_stem[w.strip()]  not in WORDS:  \n",
    "        post_stem[w.strip()]=w.strip()'''\n",
    "\n",
    "\n",
    "\n",
    "print(post_stem) #returns a dictionary\n"
   ]
  },
  {
   "cell_type": "code",
   "execution_count": null,
   "id": "3f5b3f72",
   "metadata": {},
   "outputs": [],
   "source": []
  }
 ],
 "metadata": {
  "kernelspec": {
   "display_name": "Python 3.10.0 64-bit",
   "language": "python",
   "name": "python3"
  },
  "language_info": {
   "codemirror_mode": {
    "name": "ipython",
    "version": 3
   },
   "file_extension": ".py",
   "mimetype": "text/x-python",
   "name": "python",
   "nbconvert_exporter": "python",
   "pygments_lexer": "ipython3",
   "version": "3.10.0"
  },
  "vscode": {
   "interpreter": {
    "hash": "e7d4b20038eed2fd229af78f67b689345d718171b1756a2498318d677f111377"
   }
  }
 },
 "nbformat": 4,
 "nbformat_minor": 5
}

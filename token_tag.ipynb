{
 "cells": [
  {
   "cell_type": "code",
   "execution_count": null,
   "id": "e30b269a",
   "metadata": {},
   "outputs": [],
   "source": [
    "import nltk\n",
    "from nltk.corpus import stopwords\n",
    "from nltk.tokenize import word_tokenize\n",
    "\n",
    "#tokenizer\n",
    "\n",
    "txt = \"Sukanya, Rajib and Naba are my good friends. \" \\\n",
    "    \"Sukanya is getting married next year. \" \\\n",
    "    \"Marriage is a big step in one’s life.\" \\\n",
    "    \"It is both exciting and frightening. \" \\\n",
    "    \"But friendship is a sacred bond between people.\" \\\n",
    "    \"It is a special kind of love between us. \" \\\n",
    "    \"Many of you must have tried searching for a friend \"\\\n",
    "    \"but never found the right one.\"\n",
    "\n",
    "\n",
    "\n",
    "\n",
    "for i in txt:\n",
    "    wordsList = nltk.word_tokenize(i)\n",
    "    wordsList = [w for w in wordsList ]\n",
    "\n",
    "    tagged = nltk.pos_tag(wordsList)\n",
    "\n",
    "    print(tagged)\n"
   ]
  },
  {
   "cell_type": "code",
   "execution_count": null,
   "id": "b57c5c30",
   "metadata": {},
   "outputs": [],
   "source": [
    "from nltk.corpus import brown\n",
    "from nltk.tag import UnigramTagger\n",
    "\n",
    "#tagging\n",
    "\n",
    "tagger = UnigramTagger(brown.tagged_sents(categories='news')[:500])\n",
    "sent = ['Mitchell', 'decried', 'the', 'high', 'rate', 'of', 'unemployment']\n",
    "for word, tag in tagger.tag(sent):\n",
    "    print(word, '->', tag)"
   ]
  },
  {
   "cell_type": "code",
   "execution_count": null,
   "id": "3e61446d",
   "metadata": {},
   "outputs": [],
   "source": []
  }
 ],
 "metadata": {
  "kernelspec": {
   "display_name": "Python 3 (ipykernel)",
   "language": "python",
   "name": "python3"
  },
  "language_info": {
   "codemirror_mode": {
    "name": "ipython",
    "version": 3
   },
   "file_extension": ".py",
   "mimetype": "text/x-python",
   "name": "python",
   "nbconvert_exporter": "python",
   "pygments_lexer": "ipython3",
   "version": "3.9.7"
  }
 },
 "nbformat": 4,
 "nbformat_minor": 5
}
